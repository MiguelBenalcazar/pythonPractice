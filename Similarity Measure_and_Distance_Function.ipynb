{
 "cells": [
  {
   "cell_type": "markdown",
   "metadata": {},
   "source": [
    "### Ex 1\n",
    " Please write a function to calculate the Euclidean distance between two vectors.\n",
    " The Euclidean distance between two vectors x and y is defined as the square root of\n",
    " the sum of the squares of the differences between corresponding elements of the\n",
    " vectors. Your function should produce the same result as np.linalg.norm(x-y).\n",
    " Test inputs: x = [1, 2, 3] and y = [4, 5, 6]. Show both results from your Euclidean\n",
    " distance function and from “np.linalg.norm(x- y)”"
   ]
  },
  {
   "cell_type": "code",
   "execution_count": 4,
   "metadata": {},
   "outputs": [],
   "source": [
    "import numpy as np\n",
    "\n",
    "x = [1, 2, 3]\n",
    "y = [4, 5, 6]"
   ]
  },
  {
   "cell_type": "code",
   "execution_count": 6,
   "metadata": {},
   "outputs": [],
   "source": [
    "def euclideanDistance(x, y):\n",
    "    # Ensure the vectors have the same length\n",
    "    if len(x) != len(y):\n",
    "        raise ValueError(\"Vectors must have the same length\")\n",
    "    \n",
    "    # Calculate the squared differences\n",
    "    #sqrt( sum(x-y)^2)\n",
    "    squared_diff = [(a - b) ** 2 for a, b in zip(x, y)]\n",
    "    \n",
    "    # Sum of squared differences\n",
    "    sum_squared_diff = sum(squared_diff)\n",
    "    \n",
    "    # Return the square root of the sum of squared differences\n",
    "    return np.sqrt(sum_squared_diff)"
   ]
  },
  {
   "cell_type": "code",
   "execution_count": 8,
   "metadata": {},
   "outputs": [
    {
     "data": {
      "text/plain": [
       "5.196152422706632"
      ]
     },
     "execution_count": 8,
     "metadata": {},
     "output_type": "execute_result"
    }
   ],
   "source": [
    "euclideanDistance(x, y)"
   ]
  },
  {
   "cell_type": "markdown",
   "metadata": {},
   "source": [
    "### Ex 2. \n",
    " Please implement a function in Python to calculate the cosine similarity between\n",
    " text1 = \"Machine learning is fun\" and text2 = \"Fun is machine learning\"."
   ]
  },
  {
   "cell_type": "code",
   "execution_count": 9,
   "metadata": {},
   "outputs": [],
   "source": [
    "from sklearn.feature_extraction.text import CountVectorizer\n",
    "from sklearn.metrics.pairwise import cosine_similarity"
   ]
  },
  {
   "cell_type": "code",
   "execution_count": 20,
   "metadata": {},
   "outputs": [],
   "source": [
    "def calculate_cosine_similarity(text1, text2):\n",
    "    # Initialize CountVectorizer\n",
    "    vectorizer = CountVectorizer()\n",
    "\n",
    "    # Create the vector representation of the texts\n",
    "    vectorized_text = vectorizer.fit_transform([text1, text2])\n",
    "\n",
    "    # Calculate cosine similarity\n",
    "    similarity_matrix = cosine_similarity(vectorized_text)\n",
    "\n",
    "    # Extract cosine similarity score from the matrix\n",
    "    cosine_sim = similarity_matrix\n",
    "\n",
    "    return cosine_sim"
   ]
  },
  {
   "cell_type": "code",
   "execution_count": 21,
   "metadata": {},
   "outputs": [
    {
     "name": "stdout",
     "output_type": "stream",
     "text": [
      "[[1. 1.]\n",
      " [1. 1.]]\n"
     ]
    }
   ],
   "source": [
    "# Test texts\n",
    "text1 = \"Machine learning is fun\"\n",
    "text2 = \"Fun is machine learning\"\n",
    "\n",
    "# Calculate cosine similarity\n",
    "cosine_sim = calculate_cosine_similarity(text1, text2)\n",
    "print(cosine_sim)"
   ]
  },
  {
   "cell_type": "markdown",
   "metadata": {},
   "source": [
    "### Ex 3. \n",
    " Please fill out the ____?____ in the following levenshtein distance function."
   ]
  },
  {
   "cell_type": "code",
   "execution_count": 27,
   "metadata": {},
   "outputs": [],
   "source": [
    "def levenshtein_distance(str1, str2):\n",
    "    m = len(str1)\n",
    "    n = len(str2)\n",
    "    dp = [[0] * (n + 1) for _ in range(m + 1)] # Array for Dynamic Programming states\n",
    "\n",
    "    for i in range(m + 1):\n",
    "        dp[i][0] = i\n",
    "    for j in range(n + 1):\n",
    "        dp[0][j] = j\n",
    "\n",
    "    for i in range(1, m + 1):\n",
    "        for j in range(1, n + 1):\n",
    "            if str1[i - 1] == str2[j - 1]:\n",
    "                dp[i][j] = dp[i - 1][j - 1]\n",
    "            else:\n",
    "                dp[i][j] = min(dp[i - 1][j] ,        # deletion\n",
    "                               dp[i][j - 1] ,        # insertion\n",
    "                               dp[i - 1][j - 1]) + 1 # substitution\n",
    "\n",
    "    return dp[m][n]\n",
    "\n",
    "\n"
   ]
  },
  {
   "cell_type": "code",
   "execution_count": 28,
   "metadata": {},
   "outputs": [
    {
     "name": "stdout",
     "output_type": "stream",
     "text": [
      "Levenshtein Distance: 3\n"
     ]
    }
   ],
   "source": [
    "str1 = \"kitten\"\n",
    "str2 = \"sitting\"\n",
    "print(\"Levenshtein Distance:\", levenshtein_distance(str1, str2))"
   ]
  },
  {
   "cell_type": "markdown",
   "metadata": {},
   "source": [
    "### manhattan, euclidean, chebyshev, cosine with sklearn"
   ]
  },
  {
   "cell_type": "code",
   "execution_count": 26,
   "metadata": {},
   "outputs": [
    {
     "name": "stdout",
     "output_type": "stream",
     "text": [
      "--------manhattan--------\n",
      "[[1.]\n",
      " [2.]\n",
      " [1.]\n",
      " [2.]\n",
      " [1.]\n",
      " [2.]\n",
      " [1.]\n",
      " [2.]]\n",
      "--------euclidean--------\n",
      "[[1.        ]\n",
      " [1.41421356]\n",
      " [1.        ]\n",
      " [1.41421356]\n",
      " [1.        ]\n",
      " [1.41421356]\n",
      " [1.        ]\n",
      " [1.41421356]]\n",
      "--------chebyshev--------\n",
      "[[1.]\n",
      " [1.]\n",
      " [1.]\n",
      " [1.]\n",
      " [1.]\n",
      " [1.]\n",
      " [1.]\n",
      " [1.]]\n",
      "--------cosine--------\n",
      "[[1.]\n",
      " [1.]\n",
      " [1.]\n",
      " [1.]\n",
      " [1.]\n",
      " [1.]\n",
      " [1.]\n",
      " [1.]]\n"
     ]
    }
   ],
   "source": [
    "from sklearn.metrics.pairwise import pairwise_distances\n",
    "X_serirs = [[0, 1], [1, 1],[1, 0],[1, -1],[0, -1],[-1, -1],[-1, 0],[-1, 1]]\n",
    "for m in  ['manhattan','euclidean','chebyshev','cosine']:\n",
    "    print(8*\"-\"+f\"{m}\"+8*\"-\")\n",
    "    print(pairwise_distances(X_serirs, [[0, 0]], metric=m))"
   ]
  },
  {
   "cell_type": "code",
   "execution_count": null,
   "metadata": {},
   "outputs": [],
   "source": []
  }
 ],
 "metadata": {
  "kernelspec": {
   "display_name": "base",
   "language": "python",
   "name": "python3"
  },
  "language_info": {
   "codemirror_mode": {
    "name": "ipython",
    "version": 3
   },
   "file_extension": ".py",
   "mimetype": "text/x-python",
   "name": "python",
   "nbconvert_exporter": "python",
   "pygments_lexer": "ipython3",
   "version": "3.11.5"
  }
 },
 "nbformat": 4,
 "nbformat_minor": 2
}
