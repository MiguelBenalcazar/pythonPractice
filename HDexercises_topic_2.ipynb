{
 "cells": [
  {
   "cell_type": "markdown",
   "metadata": {},
   "source": [
    "\n",
    "#### HD exercises topic 2\n"
   ]
  },
  {
   "cell_type": "markdown",
   "metadata": {},
   "source": [
    "##### Ex 1\n",
    "There are three sets, as follows. Please use set union() to report a new set with distinct elements from all three sets.\n",
    "\n",
    "a = {2, -1, 1, 2, 0} <br>\n",
    "b = {2,2,2} <br>\n",
    "c = {-1,0,1,1,3}"
   ]
  },
  {
   "cell_type": "code",
   "execution_count": 11,
   "metadata": {},
   "outputs": [],
   "source": [
    "a = {2, -1, 1, 2, 0}\n",
    "b = {2, 2, 2}\n",
    "c = {-1, 0, 1, 1, 3}"
   ]
  },
  {
   "cell_type": "code",
   "execution_count": 17,
   "metadata": {},
   "outputs": [
    {
     "name": "stdout",
     "output_type": "stream",
     "text": [
      "a U b U c ={0, 1, 2, 3, -1}\n",
      "a U b U c ={0, 1, 2, 3, -1}\n"
     ]
    }
   ],
   "source": [
    "d = a.union(b).union(c)\n",
    "d1 = a.union(b,c)\n",
    "print(f\"a U b U c ={d}\")\n",
    "print(f\"a U b U c ={d1}\")"
   ]
  },
  {
   "cell_type": "markdown",
   "metadata": {},
   "source": [
    "##### Ex 2\n",
    " Add a new key-value pair to the following dictionary data, where the added name is 'Tom' and his favorite language is 'Java'. List the five languages (include the new one) by dictionary value().\n",
    "\n",
    " favorite_languages = { <br>\n",
    " \"Andy\": \"C\", <br>\n",
    " \"Cara\": \"Python\", <br>\n",
    " \"Mark\": \"R\", <br>\n",
    " \"Jean\": \"Python\" <br>\n",
    " }"
   ]
  },
  {
   "cell_type": "code",
   "execution_count": 18,
   "metadata": {},
   "outputs": [],
   "source": [
    " favorite_languages = { \n",
    "  \"Andy\": \"C\",\n",
    " \"Cara\": \"Python\",\n",
    " \"Mark\": \"R\",\n",
    " \"Jean\": \"Python\"\n",
    " }"
   ]
  },
  {
   "cell_type": "code",
   "execution_count": 22,
   "metadata": {},
   "outputs": [],
   "source": [
    "favorite_languages[\"Tom\"] = \"Java\""
   ]
  },
  {
   "cell_type": "code",
   "execution_count": 23,
   "metadata": {},
   "outputs": [
    {
     "data": {
      "text/plain": [
       "{'Andy': 'C', 'Cara': 'Python', 'Mark': 'R', 'Jean': 'Python', 'Tom': 'Java'}"
      ]
     },
     "execution_count": 23,
     "metadata": {},
     "output_type": "execute_result"
    }
   ],
   "source": [
    "favorite_languages"
   ]
  },
  {
   "cell_type": "code",
   "execution_count": 24,
   "metadata": {},
   "outputs": [
    {
     "data": {
      "text/plain": [
       "dict_items([('Andy', 'C'), ('Cara', 'Python'), ('Mark', 'R'), ('Jean', 'Python'), ('Tom', 'Java')])"
      ]
     },
     "execution_count": 24,
     "metadata": {},
     "output_type": "execute_result"
    }
   ],
   "source": [
    "favorite_languages.items()"
   ]
  },
  {
   "cell_type": "code",
   "execution_count": 25,
   "metadata": {},
   "outputs": [
    {
     "data": {
      "text/plain": [
       "dict_keys(['Andy', 'Cara', 'Mark', 'Jean', 'Tom'])"
      ]
     },
     "execution_count": 25,
     "metadata": {},
     "output_type": "execute_result"
    }
   ],
   "source": [
    "favorite_languages.keys()"
   ]
  },
  {
   "cell_type": "code",
   "execution_count": 26,
   "metadata": {},
   "outputs": [
    {
     "data": {
      "text/plain": [
       "dict_values(['C', 'Python', 'R', 'Python', 'Java'])"
      ]
     },
     "execution_count": 26,
     "metadata": {},
     "output_type": "execute_result"
    }
   ],
   "source": [
    "favorite_languages.values()"
   ]
  },
  {
   "cell_type": "markdown",
   "metadata": {},
   "source": [
    "##### Ex 3\n",
    "There is a list, as follows. <br>\n",
    " 1.Use list insert() to insert \"Kawasaki\" to the place between 'yamaha' and 'suzuki'. <br>\n",
    " 2 Use list append() to append a new element “ducati” at the end of list. <br>\n",
    " 3 Sort the list updated above. <br>\n",
    " motorcycles = [\"honda\", \"yamaha\", \"suzuki\"]\n"
   ]
  },
  {
   "cell_type": "code",
   "execution_count": 34,
   "metadata": {},
   "outputs": [],
   "source": [
    "motorcycles = [\"honda\", \"yamaha\", \"suzuki\"]"
   ]
  },
  {
   "cell_type": "code",
   "execution_count": 35,
   "metadata": {},
   "outputs": [
    {
     "name": "stdout",
     "output_type": "stream",
     "text": [
      "['honda', 'yamaha', 'Kawasaki', 'suzuki']\n"
     ]
    }
   ],
   "source": [
    "motorcycles.insert(2, \"Kawasaki\")\n",
    "print(motorcycles)"
   ]
  },
  {
   "cell_type": "code",
   "execution_count": 37,
   "metadata": {},
   "outputs": [
    {
     "name": "stdout",
     "output_type": "stream",
     "text": [
      "['honda', 'yamaha', 'Kawasaki', 'suzuki', 'ducati']\n"
     ]
    }
   ],
   "source": [
    "motorcycles.append(\"ducati\")\n",
    "print(motorcycles)"
   ]
  },
  {
   "cell_type": "code",
   "execution_count": 38,
   "metadata": {},
   "outputs": [
    {
     "name": "stdout",
     "output_type": "stream",
     "text": [
      "['Kawasaki', 'ducati', 'honda', 'suzuki', 'yamaha']\n"
     ]
    }
   ],
   "source": [
    "motorcycles.sort()\n",
    "print(motorcycles)"
   ]
  },
  {
   "cell_type": "markdown",
   "metadata": {},
   "source": [
    "##### Ex 4\n",
    " String Practice: In Python, a string is a sequence of characters enclosed within single quotes ('...') or double quotes (\"...\").\n",
    " Here are some of the most commonly used built-in functions for strings in python:\n",
    "\n",
    " 1. **len(string)**: Returns the length of the string.\n",
    " 2. **string.upper()**: Returns a new string with all characters in uppercase.\n",
    " 3. **string.lower()**: Returns a new string with all characters in lowercase.\n",
    " 4. **string.title()**: Returns a new string with the first character of each word capitalized.\n",
    " 5. **string.strip()**: Returns a new string with any whitespace characters\n",
    " removed from the beginning and end of the string.\n",
    " 6. **string.startswith(substring)**: Returns True if the string starts with the specified substring, otherwise returns False.\n",
    " 7. **string.endswith(substring)**: Returns True if the string ends with the\n",
    " specified substring, otherwise returns False.\n",
    " 8. **string.find(substring)**: Returns the index of the first occurrence of the specified substring in the string, or-1 if it is not found.\n",
    " 9. **string.replace(old, new)**: Returns a new string where all occurrences of\n",
    " the old substring are replaced with the new substring.\n",
    " 10. **string.split(separator)**: Returns a list of substrings separated by the\n",
    " specified separator.\n",
    " 11. **string.join(iterable)**: Returns a new string that is the concatenation of the strings in the iterable, separated by the original string.\n",
    " 12. __string.format(*args, **kwargs)__: Returns a formatted string using\n",
    " replacement fields surrounded by curly braces."
   ]
  },
  {
   "cell_type": "markdown",
   "metadata": {},
   "source": [
    "You are given strings original_str1, original_str2 and original_str3 as follows. Perform the following operations by the previous 12 built-in functions:\n",
    "\n",
    " - origin_str1 = 'Never gonna Give you uP!'\n",
    " - origin_str2 = 'The song \"never gonna give you up!\" is recorded by {name} and released in {year}.'\n",
    " -  origin_str3 = ' Hello \n"
   ]
  },
  {
   "cell_type": "code",
   "execution_count": 40,
   "metadata": {},
   "outputs": [],
   "source": [
    "origin_str1 = 'Never gonna Give you uP!'\n",
    "origin_str2 = 'The song \"never gonna give you up!\" is recorded by {name} and released in {year}.'\n",
    "origin_str3 = ' Hello '"
   ]
  },
  {
   "cell_type": "markdown",
   "metadata": {},
   "source": [
    " 1. Change the origin_str1 to all uppercase."
   ]
  },
  {
   "cell_type": "code",
   "execution_count": 41,
   "metadata": {},
   "outputs": [
    {
     "name": "stdout",
     "output_type": "stream",
     "text": [
      "NEVER GONNA GIVE YOU UP!\n"
     ]
    }
   ],
   "source": [
    "print(origin_str1.upper())"
   ]
  },
  {
   "cell_type": "markdown",
   "metadata": {},
   "source": [
    "2. Change the origin_str1 to all lowercase."
   ]
  },
  {
   "cell_type": "code",
   "execution_count": 43,
   "metadata": {},
   "outputs": [
    {
     "name": "stdout",
     "output_type": "stream",
     "text": [
      "never gonna give you up!\n"
     ]
    }
   ],
   "source": [
    "print(origin_str1.lower())"
   ]
  },
  {
   "cell_type": "markdown",
   "metadata": {},
   "source": [
    "3. Change the origin_str1 to title format, where each word begins with a capital letter."
   ]
  },
  {
   "cell_type": "code",
   "execution_count": 44,
   "metadata": {},
   "outputs": [
    {
     "name": "stdout",
     "output_type": "stream",
     "text": [
      "Never Gonna Give You Up!\n"
     ]
    }
   ],
   "source": [
    "print(origin_str1.title())"
   ]
  },
  {
   "cell_type": "markdown",
   "metadata": {},
   "source": [
    "4. Count the length of the origin_str1."
   ]
  },
  {
   "cell_type": "code",
   "execution_count": 45,
   "metadata": {},
   "outputs": [
    {
     "name": "stdout",
     "output_type": "stream",
     "text": [
      "24\n"
     ]
    }
   ],
   "source": [
    "print(len(origin_str1))"
   ]
  },
  {
   "cell_type": "markdown",
   "metadata": {},
   "source": [
    " 5. Report whether the origin_str1 starts with the 'never'."
   ]
  },
  {
   "cell_type": "code",
   "execution_count": 48,
   "metadata": {},
   "outputs": [
    {
     "name": "stdout",
     "output_type": "stream",
     "text": [
      "False\n"
     ]
    }
   ],
   "source": [
    "arr = origin_str1.split()\n",
    "if arr[0] == \"never\":\n",
    "    print(True)\n",
    "else:\n",
    "    print(False)"
   ]
  },
  {
   "cell_type": "markdown",
   "metadata": {},
   "source": [
    "6. Report whether the origin_str1 ends with the '!'."
   ]
  },
  {
   "cell_type": "code",
   "execution_count": 51,
   "metadata": {},
   "outputs": [
    {
     "name": "stdout",
     "output_type": "stream",
     "text": [
      "True\n"
     ]
    }
   ],
   "source": [
    "arr = origin_str1.split()\n",
    "if arr[-1].find(\"!\"):\n",
    "    print(True)\n",
    "else:\n",
    "    print(False)"
   ]
  },
  {
   "cell_type": "markdown",
   "metadata": {},
   "source": [
    " 7. Replaced the space ' ' in the origin_str1 with underscore '_'"
   ]
  },
  {
   "cell_type": "code",
   "execution_count": 52,
   "metadata": {},
   "outputs": [
    {
     "name": "stdout",
     "output_type": "stream",
     "text": [
      "Never_gonna_Give_you_uP!\n"
     ]
    }
   ],
   "source": [
    "print(origin_str1.replace(\" \", \"_\"))"
   ]
  },
  {
   "cell_type": "markdown",
   "metadata": {},
   "source": [
    "8. Report a new string with any whitespace characters removed from the beginning and end  of the original origin_str3."
   ]
  },
  {
   "cell_type": "code",
   "execution_count": 56,
   "metadata": {},
   "outputs": [
    {
     "name": "stdout",
     "output_type": "stream",
     "text": [
      "Hello\n"
     ]
    }
   ],
   "source": [
    "print(origin_str3.strip())"
   ]
  },
  {
   "cell_type": "markdown",
   "metadata": {},
   "source": [
    "9 Report a new string where replace the name with 'Rick Astley' and the year with '1987' in the origin_str2."
   ]
  },
  {
   "cell_type": "code",
   "execution_count": 55,
   "metadata": {},
   "outputs": [
    {
     "name": "stdout",
     "output_type": "stream",
     "text": [
      "The song \"never gonna give you up!\" is recorded by Rick Astley and released in 1987.\n"
     ]
    }
   ],
   "source": [
    "print(origin_str2.replace(\"{name}\", \"Rick Astley\").replace(\"{year}\", \"1987\"))"
   ]
  },
  {
   "cell_type": "code",
   "execution_count": null,
   "metadata": {},
   "outputs": [],
   "source": []
  }
 ],
 "metadata": {
  "kernelspec": {
   "display_name": "Python 3",
   "language": "python",
   "name": "python3"
  },
  "language_info": {
   "codemirror_mode": {
    "name": "ipython",
    "version": 3
   },
   "file_extension": ".py",
   "mimetype": "text/x-python",
   "name": "python",
   "nbconvert_exporter": "python",
   "pygments_lexer": "ipython3",
   "version": "3.12.1"
  }
 },
 "nbformat": 4,
 "nbformat_minor": 2
}
